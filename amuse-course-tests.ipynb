{
 "cells": [
  {
   "cell_type": "markdown",
   "id": "6ef41c90-29e0-4927-a2a5-f711e4d1d87e",
   "metadata": {},
   "source": [
    "# Check if AMUSE was installed correctly\n",
    "\n",
    "By now you should have installed or loaded AMUSE. Please make sure your install actually works by running all the imports:"
   ]
  },
  {
   "cell_type": "code",
   "execution_count": null,
   "id": "8c1df712-74d0-42b0-b372-cea044959edf",
   "metadata": {},
   "outputs": [],
   "source": [
    "try:\n",
    "    # AMUSE-Tutorial/bridge_gravity_with_hydro.ipynb:\n",
    "    from amuse.community.huayno.interface import Huayno\n",
    "    from amuse.community.fi.interface import Fi\n",
    "\n",
    "    # AMUSE-Tutorial/bridged_Nbody_with_Galaxy.ipynb:\n",
    "    from amuse.community.hermite.interface import Hermite\n",
    "\n",
    "    # AMUSE-Tutorial/gravity_cascaded_bridges.ipynb:\n",
    "    from amuse.community.ph4.interface import ph4\n",
    "\n",
    "    # AMUSE-Tutorial/high_order_bridge.ipynb:\n",
    "    from amuse.community.huayno.interface import Huayno\n",
    "    from amuse.community.fi.interface import Fi\n",
    "\n",
    "    # AMUSE-Tutorial/running_Nbody_with_collisions.ipynb:\n",
    "    from amuse.community.seba.interface import SeBa\n",
    "\n",
    "    # AMUSE-Tutorial/running_hydrodynamics.ipynb:\n",
    "    from amuse.community.mesa_r2208.interface import MESA\n",
    "    from amuse.community.mesa.interface import MESA\n",
    "\n",
    "    print(\"All interfaces are imported without error\")\n",
    "    \n",
    "except ModuleNotFoundError as e:\n",
    "    print(f\"AMUSE is not installed correctly, you are missing the following module: {str(e).strip('No module named')}\")\n",
    "    raise e\n"
   ]
  },
  {
   "cell_type": "markdown",
   "id": "66f25b8d-84cd-4985-80a2-1b055ee68a56",
   "metadata": {},
   "source": [
    "Make a pdf out of this notebook with your succesful output on it and upload it into the brightspace assignment before **monday night**. This way we can see if everyone made enough progress."
   ]
  },
  {
   "cell_type": "code",
   "execution_count": null,
   "id": "647edb71-6442-4d46-ad82-e9a9c8781b51",
   "metadata": {},
   "outputs": [],
   "source": []
  }
 ],
 "metadata": {
  "kernelspec": {
   "display_name": "Python 3 (ipykernel)",
   "language": "python",
   "name": "python3"
  },
  "language_info": {
   "codemirror_mode": {
    "name": "ipython",
    "version": 3
   },
   "file_extension": ".py",
   "mimetype": "text/x-python",
   "name": "python",
   "nbconvert_exporter": "python",
   "pygments_lexer": "ipython3",
   "version": "3.10.4"
  }
 },
 "nbformat": 4,
 "nbformat_minor": 5
}
