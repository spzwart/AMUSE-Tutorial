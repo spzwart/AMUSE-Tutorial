{
 "cells": [
  {
   "cell_type": "markdown",
   "metadata": {},
   "source": [
    "AMUSE tutorial on units\n",
    "====================\n",
    "\n",
    "Here we will start up an AMUSE service in Jupyter notebook and run some example operations."
   ]
  },
  {
   "cell_type": "code",
   "execution_count": null,
   "metadata": {},
   "outputs": [],
   "source": [
    "#Load in the amuse units module\n",
    "from amuse.units import units"
   ]
  },
  {
   "cell_type": "code",
   "execution_count": null,
   "metadata": {},
   "outputs": [],
   "source": [
    "# Declare some variables\n",
    "mstar = 1 | units.MSun\n",
    "rstar = 1 | units.RSun"
   ]
  },
  {
   "cell_type": "code",
   "execution_count": null,
   "metadata": {},
   "outputs": [],
   "source": [
    "# calculate surface escape speed\n",
    "# this requires the gravitational constant to be declared\n",
    "G = 6.67e-11 | units.m**3 * units.kg**-1 * units.s**-2\n",
    "vesc = (2*G*mstar/rstar).sqrt()"
   ]
  },
  {
   "cell_type": "code",
   "execution_count": null,
   "metadata": {},
   "outputs": [],
   "source": [
    "print(\"The escape speed is:\", vesc)"
   ]
  },
  {
   "cell_type": "markdown",
   "metadata": {},
   "source": [
    "This looks weard, right? But it is the right answer. AMUSE will operate on \"lazy calculating\", meaning that it will only perform the actual calculation once it is explicitely asked for it.\n",
    "Not try converting the unit to something more readable."
   ]
  },
  {
   "cell_type": "code",
   "execution_count": null,
   "metadata": {},
   "outputs": [],
   "source": [
    "print(\"The escape speed is:\", vesc.in_(units.kms))"
   ]
  },
  {
   "cell_type": "markdown",
   "metadata": {},
   "source": [
    "Now you have to realize, that you used the wrong value for the gravitational constant G. The values of most important constants are stored in the AMUSE framework. They can be accessed by loading in the appropriate module."
   ]
  },
  {
   "cell_type": "code",
   "execution_count": null,
   "metadata": {},
   "outputs": [],
   "source": [
    "from amuse.units.constants import G\n",
    "vesc = (2*G*mstar/rstar).sqrt()\n",
    "print(\"The escape speed is:\", vesc.in_(units.kms))"
   ]
  },
  {
   "cell_type": "markdown",
   "metadata": {},
   "source": [
    "You have now calculated the escape speed from the Solar surface.\n",
    "\n",
    "Assignmnets and questions:\n",
    "---------------\n",
    "\n",
    "### Assignment 1:\n",
    "Calculate the escape speed of the supermassive black hole in the Galactic center.\n",
    "\n",
    "### Assignment 2:\n",
    "Calculate the orbital velocity of the planet Earth in orbit around the Sun.\n",
    "\n",
    "### Assignment 3:\n",
    "Calculate the typical velocity at which an asteroid hits Earth's upper atmosphere.\n",
    "\n",
    "### Question 1:\n",
    "What is the range in velocities with which you expect an asteroids to hit the Earth's surface.\n",
    "\n",
    "### Question 2:\n",
    "With a photospheric effective temporature of 5772K (see [Wikipedia](https://en.wikipedia.org/wiki/Sun)), what is the Sun's luminosity?\n",
    "*note here that the Stefan-Bolzmann constant in AMUSE is available in the units.constants package under the name of Stefan_hyphen_Boltzmann_constant.*\n",
    "\n",
    "Calculate the difference with the standard in AMUSE available solar luminosity (1 | units.LSun). Why are the two values different?\n",
    "\n",
    "If the discrepancy originates from the photospheric effective temperature from Wikipedia, what would be the correct temperature to match the Solar luminosity?\n",
    "\n",
    "### Question 3:\n",
    "Use Kepler's 3th law to calculate the relative orbital velocity of planet Earth in orbit around the Sun.\n",
    "\n",
    "### Question 4:\n",
    "Apply the same calculation to the orbit of the star S2, which has an orbital period of 16.0518 yr, and eccentricity 0.88466. Calculate S2's orbital velocity at pericenter and at apocenter?\n",
    "Express it's apocenter velocity in terms of the speed of light in vacuum."
   ]
  },
  {
   "cell_type": "code",
   "execution_count": null,
   "metadata": {},
   "outputs": [],
   "source": []
  }
 ],
 "metadata": {
  "kernelspec": {
   "display_name": "Python 3 (ipykernel)",
   "language": "python",
   "name": "python3"
  },
  "language_info": {
   "codemirror_mode": {
    "name": "ipython",
    "version": 3
   },
   "file_extension": ".py",
   "mimetype": "text/x-python",
   "name": "python",
   "nbconvert_exporter": "python",
   "pygments_lexer": "ipython3",
   "version": "3.7.6"
  }
 },
 "nbformat": 4,
 "nbformat_minor": 4
}
